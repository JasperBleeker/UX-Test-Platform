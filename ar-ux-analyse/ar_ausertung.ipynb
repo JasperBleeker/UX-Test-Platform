{
 "cells": [
  {
   "cell_type": "code",
   "execution_count": null,
   "metadata": {},
   "outputs": [
    {
     "ename": "ModuleNotFoundError",
     "evalue": "No module named 'pandas'",
     "output_type": "error",
     "traceback": [
      "\u001b[31m---------------------------------------------------------------------------\u001b[39m",
      "\u001b[31mModuleNotFoundError\u001b[39m                       Traceback (most recent call last)",
      "\u001b[36mCell\u001b[39m\u001b[36m \u001b[39m\u001b[32mIn[2]\u001b[39m\u001b[32m, line 1\u001b[39m\n\u001b[32m----> \u001b[39m\u001b[32m1\u001b[39m \u001b[38;5;28;01mimport\u001b[39;00m\u001b[38;5;250m \u001b[39m\u001b[34;01mpandas\u001b[39;00m\u001b[38;5;250m \u001b[39m\u001b[38;5;28;01mas\u001b[39;00m\u001b[38;5;250m \u001b[39m\u001b[34;01mpd\u001b[39;00m\n\u001b[32m      2\u001b[39m \u001b[38;5;28;01mimport\u001b[39;00m\u001b[38;5;250m \u001b[39m\u001b[34;01mnumpy\u001b[39;00m\u001b[38;5;250m \u001b[39m\u001b[38;5;28;01mas\u001b[39;00m\u001b[38;5;250m \u001b[39m\u001b[34;01mnp\u001b[39;00m\n\u001b[32m      3\u001b[39m \u001b[38;5;28;01mfrom\u001b[39;00m\u001b[38;5;250m \u001b[39m\u001b[34;01mscipy\u001b[39;00m\u001b[34;01m.\u001b[39;00m\u001b[34;01mstats\u001b[39;00m\u001b[38;5;250m \u001b[39m\u001b[38;5;28;01mimport\u001b[39;00m ttest_rel\n",
      "\u001b[31mModuleNotFoundError\u001b[39m: No module named 'pandas'"
     ]
    }
   ],
   "source": [
    "import pandas as pd\n",
    "import numpy as np\n",
    "from scipy.stats import ttest_rel\n"
   ]
  },
  {
   "cell_type": "code",
   "execution_count": 1,
   "metadata": {},
   "outputs": [
    {
     "ename": "NameError",
     "evalue": "name 'pd' is not defined",
     "output_type": "error",
     "traceback": [
      "\u001b[31m---------------------------------------------------------------------------\u001b[39m",
      "\u001b[31mNameError\u001b[39m                                 Traceback (most recent call last)",
      "\u001b[36mCell\u001b[39m\u001b[36m \u001b[39m\u001b[32mIn[1]\u001b[39m\u001b[32m, line 1\u001b[39m\n\u001b[32m----> \u001b[39m\u001b[32m1\u001b[39m df = \u001b[43mpd\u001b[49m.read_excel(\u001b[33m\"\u001b[39m\u001b[33mUX-Daten.xlsx\u001b[39m\u001b[33m\"\u001b[39m, sheet_name=\u001b[33m\"\u001b[39m\u001b[33mFormularantworten 1\u001b[39m\u001b[33m\"\u001b[39m)\n\u001b[32m      2\u001b[39m df.head()\n",
      "\u001b[31mNameError\u001b[39m: name 'pd' is not defined"
     ]
    }
   ],
   "source": [
    "df = pd.read_excel(\"UX-Daten.xlsx\", sheet_name=\"Formularantworten 1\")\n",
    "df.head()\n"
   ]
  },
  {
   "cell_type": "code",
   "execution_count": null,
   "metadata": {},
   "outputs": [],
   "source": [
    "df_long = df.melt(\n",
    "    id_vars=[\"TeilnehmerID\"],\n",
    "    value_vars=[col for col in df.columns if col.startswith(\"AR \") or col.startswith(\"Bild \")],\n",
    "    var_name=\"ItemBedingung\",\n",
    "    value_name=\"Wert\"\n",
    ")\n",
    "\n",
    "df_long[\"Bedingung\"] = df_long[\"ItemBedingung\"].apply(lambda x: \"AR\" if x.startswith(\"AR \") else \"Bild\")\n",
    "df_long[\"Item\"] = df_long[\"ItemBedingung\"].str.replace(\"^(AR |Bild )\", \"\", regex=True)\n",
    "df_long = df_long[[\"TeilnehmerID\", \"Item\", \"Bedingung\", \"Wert\"]]\n",
    "df_long.head()\n"
   ]
  },
  {
   "cell_type": "code",
   "execution_count": null,
   "metadata": {},
   "outputs": [],
   "source": [
    "pivot = df_long.pivot(index=[\"TeilnehmerID\", \"Item\"], columns=\"Bedingung\", values=\"Wert\").dropna()\n",
    "\n",
    "results = []\n",
    "for item in pivot.index.get_level_values(\"Item\").unique():\n",
    "    ar = pivot.xs(item, level=\"Item\")[\"AR\"]\n",
    "    bild = pivot.xs(item, level=\"Item\")[\"Bild\"]\n",
    "    t, p = ttest_rel(ar, bild)\n",
    "    d = (ar.mean() - bild.mean()) / np.sqrt(((ar.std(ddof=1)**2 + bild.std(ddof=1)**2)/2))\n",
    "    results.append({\"Item\": item, \"t-Wert\": t, \"p-Wert\": p, \"Cohen's d\": d})\n",
    "\n",
    "df_results = pd.DataFrame(results)\n",
    "df_results\n"
   ]
  },
  {
   "cell_type": "code",
   "execution_count": null,
   "metadata": {},
   "outputs": [],
   "source": [
    "df_results.to_excel(\"auswertung_ergebnisse.xlsx\", index=False)\n"
   ]
  }
 ],
 "metadata": {
  "kernelspec": {
   "display_name": "Python 3",
   "language": "python",
   "name": "python3"
  },
  "language_info": {
   "codemirror_mode": {
    "name": "ipython",
    "version": 3
   },
   "file_extension": ".py",
   "mimetype": "text/x-python",
   "name": "python",
   "nbconvert_exporter": "python",
   "pygments_lexer": "ipython3",
   "version": "3.13.3"
  }
 },
 "nbformat": 4,
 "nbformat_minor": 2
}
