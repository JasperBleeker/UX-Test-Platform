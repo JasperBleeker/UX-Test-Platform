{
 "cells": [
  {
   "cell_type": "code",
   "execution_count": 1,
   "id": "a7731e5c",
   "metadata": {},
   "outputs": [],
   "source": [
    "import pandas as pd\n",
    "import numpy as np\n",
    "from scipy.stats import ttest_rel\n",
    "\n",
    "# 📄 Excel-Datei laden\n",
    "df = pd.read_excel(\"UX-Daten.xlsx\", sheet_name=\"Formularantworten 1\")\n",
    "\n",
    "# 🧾 Teilnehmer-ID hinzufügen\n",
    "df.insert(0, \"TeilnehmerID\", range(1, len(df) + 1))\n",
    "\n",
    "# 🎯 Bewertete Spalten identifizieren\n",
    "value_cols = [col for col in df.columns if col.startswith(\"AR \") or col.startswith(\"Bild \")]\n",
    "\n",
    "# 🔄 Long-Format erzeugen\n",
    "df_long = df.melt(\n",
    "    id_vars=[\"TeilnehmerID\"],\n",
    "    value_vars=value_cols,\n",
    "    var_name=\"ItemBedingung\",\n",
    "    value_name=\"Wert\"\n",
    ")\n",
    "\n",
    "# 📌 Bedingung extrahieren\n",
    "df_long[\"Bedingung\"] = df_long[\"ItemBedingung\"].apply(lambda x: \"AR\" if x.startswith(\"AR \") else \"Bild\")\n",
    "\n",
    "# 📌 Item bereinigen (z. B. 'AR hässlich – schön (ATT)' → 'hässlich – schön (ATT)')\n",
    "df_long[\"Item\"] = df_long[\"ItemBedingung\"].str.replace(r\"^(AR |Bild )\", \"\", regex=True)\n",
    "\n",
    "# 📌 UX-Dimension aus Klammerinhalt extrahieren → 'PQ', 'HQ-S', 'HQ-I', 'ATT'\n",
    "df_long[\"Dimension\"] = df_long[\"Item\"].str.extract(r\"\\((.*?)\\)$\")[0]\n"
   ]
  },
  {
   "cell_type": "code",
   "execution_count": 2,
   "id": "af194a72",
   "metadata": {},
   "outputs": [],
   "source": [
    "# Auswertung pro Item\n",
    "# Pivotieren für gepaarten t-Test\n",
    "pivot_items = df_long.pivot(index=[\"TeilnehmerID\", \"Item\"], columns=\"Bedingung\", values=\"Wert\").dropna()\n",
    "\n",
    "# t-Test + Effektstärke je Item\n",
    "results_items = []\n",
    "for item in pivot_items.index.get_level_values(\"Item\").unique():\n",
    "    ar = pivot_items.xs(item, level=\"Item\")[\"AR\"]\n",
    "    bild = pivot_items.xs(item, level=\"Item\")[\"Bild\"]\n",
    "    t, p = ttest_rel(ar, bild)\n",
    "    d = (ar.mean() - bild.mean()) / np.sqrt(((ar.std(ddof=1)**2 + bild.std(ddof=1)**2)/2))\n",
    "    results_items.append({\n",
    "        \"Item\": item,\n",
    "        \"Mittelwert_AR\": ar.mean(),\n",
    "        \"Mittelwert_Bild\": bild.mean(),\n",
    "        \"t-Wert\": t,\n",
    "        \"p-Wert\": p,\n",
    "        \"Cohen's d\": d\n",
    "    })\n",
    "\n",
    "df_results_items = pd.DataFrame(results_items).sort_values(\"p-Wert\")\n"
   ]
  },
  {
   "cell_type": "code",
   "execution_count": 3,
   "id": "ff7948e3",
   "metadata": {},
   "outputs": [],
   "source": [
    "# Mittelwerte pro Teilnehmer x Dimension x Bedingung\n",
    "df_mean_dim = df_long.groupby([\"TeilnehmerID\", \"Dimension\", \"Bedingung\"])[\"Wert\"].mean().reset_index()\n",
    "\n",
    "# Pivotieren für Dimensionen\n",
    "pivot_dim = df_mean_dim.pivot(index=[\"TeilnehmerID\", \"Dimension\"], columns=\"Bedingung\", values=\"Wert\").dropna()\n",
    "\n",
    "# t-Test + Effektstärke je Dimension\n",
    "results_dims = []\n",
    "for dim in pivot_dim.index.get_level_values(\"Dimension\").unique():\n",
    "    ar = pivot_dim.xs(dim, level=\"Dimension\")[\"AR\"]\n",
    "    bild = pivot_dim.xs(dim, level=\"Dimension\")[\"Bild\"]\n",
    "    t, p = ttest_rel(ar, bild)\n",
    "    d = (ar.mean() - bild.mean()) / np.sqrt(((ar.std(ddof=1)**2 + bild.std(ddof=1)**2)/2))\n",
    "    results_dims.append({\n",
    "        \"Dimension\": dim,\n",
    "        \"Mittelwert_AR\": ar.mean(),\n",
    "        \"Mittelwert_Bild\": bild.mean(),\n",
    "        \"t-Wert\": t,\n",
    "        \"p-Wert\": p,\n",
    "        \"Cohen's d\": d\n",
    "    })\n",
    "\n",
    "df_results_dims = pd.DataFrame(results_dims).sort_values(\"p-Wert\")\n"
   ]
  },
  {
   "cell_type": "code",
   "execution_count": 4,
   "id": "b02a3f00",
   "metadata": {},
   "outputs": [],
   "source": [
    "# 📁 Exportiere Item-basierte Ergebnisse\n",
    "df_results_items.to_excel(\"auswertung_items.xlsx\", index=False)\n",
    "\n",
    "# 📁 Exportiere UX-Dimensions-Ergebnisse\n",
    "df_results_dims.to_excel(\"auswertung_dimensionen.xlsx\", index=False)\n"
   ]
  }
 ],
 "metadata": {
  "kernelspec": {
   "display_name": ".venv",
   "language": "python",
   "name": "python3"
  },
  "language_info": {
   "codemirror_mode": {
    "name": "ipython",
    "version": 3
   },
   "file_extension": ".py",
   "mimetype": "text/x-python",
   "name": "python",
   "nbconvert_exporter": "python",
   "pygments_lexer": "ipython3",
   "version": "3.13.3"
  }
 },
 "nbformat": 4,
 "nbformat_minor": 5
}
